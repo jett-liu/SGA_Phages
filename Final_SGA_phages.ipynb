{
 "cells": [
  {
   "cell_type": "markdown",
   "metadata": {},
   "source": [
    "# SGA Phages"
   ]
  },
  {
   "attachments": {},
   "cell_type": "markdown",
   "metadata": {},
   "source": [
    "This notebook should be run after SGA_CRISPR_Cas.ipynb"
   ]
  },
  {
   "cell_type": "code",
   "execution_count": 4,
   "metadata": {},
   "outputs": [],
   "source": [
    "import glob\n",
    "import os\n",
    "import sys\n",
    "import pandas as pd\n",
    "import numpy as np\n",
    "import seaborn as sns\n",
    "import matplotlib.pyplot as plt\n",
    "from Bio import SearchIO\n",
    "from Bio import SeqIO\n",
    "import json\n",
    "from collections import defaultdict\n",
    "import skbio\n",
    "import subprocess as sp\n",
    "from collections import OrderedDict\n",
    "from Bio.SeqRecord import SeqRecord\n",
    "from Bio.SeqFeature import SeqFeature, FeatureLocation\n",
    "from Bio.Seq import Seq\n",
    "from bs4 import BeautifulSoup\n",
    "import math"
   ]
  },
  {
   "cell_type": "code",
   "execution_count": 5,
   "metadata": {},
   "outputs": [],
   "source": [
    "rootdir = \"to_fill_in\""
   ]
  },
  {
   "cell_type": "code",
   "execution_count": 6,
   "metadata": {},
   "outputs": [],
   "source": [
    "def makedir(path):\n",
    "    if not os.path.isdir(path):\n",
    "        os.mkdir(path)"
   ]
  },
  {
   "cell_type": "markdown",
   "metadata": {},
   "source": [
    "## Blast drepped spacers to IMG/VR & GVD"
   ]
  },
  {
   "cell_type": "code",
   "execution_count": 7,
   "metadata": {},
   "outputs": [
    {
     "data": {
      "text/plain": [
       "0"
      ]
     },
     "execution_count": 7,
     "metadata": {},
     "output_type": "execute_result"
    }
   ],
   "source": [
    "makedir(rootdir + \"Blast_spacers/\")\n",
    "makedir(rootdir + \"Blast_spacers/spacer_blast_db\")\n",
    "\n",
    "cp = \"cp {0}All_qc_spacers_derepped.fna {0}Blast_spacers/spacer_blast_db/All_qc_spacers_derepped.fna\".format(rootdir)\n",
    "os.system(cp)"
   ]
  },
  {
   "cell_type": "code",
   "execution_count": 8,
   "metadata": {},
   "outputs": [
    {
     "data": {
      "text/plain": [
       "0"
      ]
     },
     "execution_count": 8,
     "metadata": {},
     "output_type": "execute_result"
    }
   ],
   "source": [
    "#make blast database out of spacers\n",
    "cmd = 'makeblastdb -in {0}Blast_spacers/spacer_blast_db/All_qc_spacers_derepped.fna -dbtype nucl'.format(rootdir)\n",
    "os.system(cmd)"
   ]
  },
  {
   "cell_type": "code",
   "execution_count": 11,
   "metadata": {},
   "outputs": [],
   "source": [
    "#blast function\n",
    "def blast_spacer(query, output):\n",
    "    cmd = \"blastn -task 'blastn-short' -query {0} -db {1}Blast_spacers/spacer_blast_db/All_qc_spacers_derepped.fna -outfmt '6 qseqid sseqid pident length mismatch gapopen qstart qend sstart send evalue bitscore qlen slen' -out {2} -evalue 0.003 -word_size 7 -gapopen 10 -gapextend 2 -penalty -1 -max_target_seqs 1000 -num_threads 16\".format(query, rootdir, output)\n",
    "    print(cmd)"
   ]
  },
  {
   "cell_type": "code",
   "execution_count": 12,
   "metadata": {},
   "outputs": [],
   "source": [
    "makedir(rootdir + \"Blast_spacers/Blast_output\")"
   ]
  },
  {
   "cell_type": "code",
   "execution_count": 13,
   "metadata": {},
   "outputs": [
    {
     "name": "stdout",
     "output_type": "stream",
     "text": [
      "blastn -task 'blastn-short' -query path_to_IMGVR_phages/IMGVR_all_nucleotides.fna -db /groups/banfield/projects/multienv/cpr/2020/tm7_sr1_gracili/Env_CPR_Alex/Clean_run_for_pub/Blast_spacers/spacer_blast_db/All_qc_spacers_derepped.fna -outfmt '6 qseqid sseqid pident length mismatch gapopen qstart qend sstart send evalue bitscore qlen slen' -out /groups/banfield/projects/multienv/cpr/2020/tm7_sr1_gracili/Env_CPR_Alex/Clean_run_for_pub/Blast_spacers/Blast_output/ALL_Spacers_QC_blast_IMGVR.csv -evalue 0.003 -word_size 7 -gapopen 10 -gapextend 2 -penalty -1 -max_target_seqs 1000 -num_threads 16\n",
      "blastn -task 'blastn-short' -query path_to_GVD_phages/GVDv1_viralpopulations.fna -db /groups/banfield/projects/multienv/cpr/2020/tm7_sr1_gracili/Env_CPR_Alex/Clean_run_for_pub/Blast_spacers/spacer_blast_db/All_qc_spacers_derepped.fna -outfmt '6 qseqid sseqid pident length mismatch gapopen qstart qend sstart send evalue bitscore qlen slen' -out /groups/banfield/projects/multienv/cpr/2020/tm7_sr1_gracili/Env_CPR_Alex/Clean_run_for_pub/Blast_spacers/Blast_output/ALL_Spacers_QC_blast_GVD_human_gut.csv -evalue 0.003 -word_size 7 -gapopen 10 -gapextend 2 -penalty -1 -max_target_seqs 1000 -num_threads 16\n"
     ]
    }
   ],
   "source": [
    "#IMG and GVD blast commands\n",
    "#IMG\n",
    "blast_spacer(\"path_to_IMGVR_phages/IMGVR_all_nucleotides.fna\", rootdir + \"Blast_spacers/Blast_output/ALL_Spacers_QC_blast_IMGVR.csv\")\n",
    "\n",
    "#GVD\n",
    "blast_spacer(\"path_to_GVD_phages/GVDv1_viralpopulations.fna\", rootdir + \"Blast_spacers/Blast_output/ALL_Spacers_QC_blast_GVD_human_gut.csv\")"
   ]
  },
  {
   "attachments": {},
   "cell_type": "markdown",
   "metadata": {},
   "source": [
    "### parse blast output, grab spacer hits"
   ]
  },
  {
   "attachments": {},
   "cell_type": "markdown",
   "metadata": {},
   "source": [
    "IMG/VR"
   ]
  },
  {
   "cell_type": "code",
   "execution_count": 14,
   "metadata": {},
   "outputs": [],
   "source": [
    "#function to screen blast results to >= 95% coverage and <= 1 mismatch of the spacer\n",
    "def get_spacer_hits(blast_output, Viral_database):\n",
    "    df = skbio.io.read(blast_output, format=\"blast+6\", into=pd.DataFrame, default_columns=False,  columns=['qseqid', 'sseqid', 'pident', 'length', 'mismatch', 'gapopen', 'qstart', 'qend', 'sstart', 'send', 'evalue', 'bitscore', 'qlen', 'slen'])\n",
    "    #one mismatch\n",
    "    df = df[df[\"mismatch\"] <= 1]\n",
    "    #95% coverage\n",
    "    df[\"Coverage\"] = df['length']/df['slen']\n",
    "    df = df[df[\"Coverage\"] >= 0.95]\n",
    "    df[\"Viral_database\"] = Viral_database\n",
    "    return df"
   ]
  },
  {
   "cell_type": "code",
   "execution_count": 17,
   "metadata": {},
   "outputs": [],
   "source": [
    "\n",
    "IMG_VR_spacer_df = get_spacer_hits(rootdir + \"Blast_spacers/Blast_output/ALL_Spacers_QC_blast_IMGVR.csv\", \"IMG_VR\")\n",
    "IMG_VR_spacer_df[\"UViG\"] = IMG_VR_spacer_df[\"qseqid\"].apply(lambda x: x.split(\"|\")[0])\n",
    "\n",
    "#host data\n",
    "IMG_VR_Host_dict = {}\n",
    "IMG_VR_host_df = pd.read_csv(rootdir + \"metadata/IMGVR_all_Host_information.tsv\", sep=\"\\t\")\n",
    "for key, row in IMG_VR_host_df.iterrows():\n",
    "    IMG_VR_Host_dict[row[\"## UViG\"]] = row[\"Host taxonomy prediction\"]\n",
    "\n",
    "\n",
    "IMG_VR_spacer_df[\"host\"] = IMG_VR_spacer_df.UViG.map(IMG_VR_Host_dict).fillna(\"none\")"
   ]
  },
  {
   "cell_type": "code",
   "execution_count": 18,
   "metadata": {},
   "outputs": [],
   "source": [
    "#dropping eukaryotic virsues\n",
    "IMG_VR_spacer_df_no_euk = IMG_VR_spacer_df[~IMG_VR_spacer_df.host.str.contains(\"Eukaryota\", case=False)]\n",
    "IMG_VR_spacer_df_no_euk = IMG_VR_spacer_df_no_euk[IMG_VR_spacer_df_no_euk.qseqid != \"GCA_002966405.1\"]"
   ]
  },
  {
   "attachments": {},
   "cell_type": "markdown",
   "metadata": {},
   "source": [
    "GVD"
   ]
  },
  {
   "cell_type": "code",
   "execution_count": 19,
   "metadata": {},
   "outputs": [],
   "source": [
    "GVD_Human_Gut_spacer_df = get_spacer_hits(rootdir + \"Blast_spacers/Blast_output/ALL_Spacers_QC_blast_GVD_human_gut.csv\", \"GVD_Human_Gut_Virome\")"
   ]
  },
  {
   "attachments": {},
   "cell_type": "markdown",
   "metadata": {},
   "source": [
    "## get phages from both databases:"
   ]
  },
  {
   "cell_type": "code",
   "execution_count": 20,
   "metadata": {},
   "outputs": [
    {
     "name": "stderr",
     "output_type": "stream",
     "text": [
      "<ipython-input-20-e33457b2318d>:5: UserWarning: Boolean Series key will be reindexed to match DataFrame index.\n",
      "  IMG_VR_phages = IMG_VR_GVD_Hits_df.drop_duplicates(subset=\"qseqid\")[IMG_VR_GVD_Hits_df.Viral_database == \"IMG_VR\"].qseqid\n",
      "<ipython-input-20-e33457b2318d>:6: UserWarning: Boolean Series key will be reindexed to match DataFrame index.\n",
      "  GVD_phages = IMG_VR_GVD_Hits_df.drop_duplicates(subset=\"qseqid\")[IMG_VR_GVD_Hits_df.Viral_database == \"GVD_Human_Gut_Virome\"].qseqid\n"
     ]
    }
   ],
   "source": [
    "#drop duplicates because there are overlaping phages between the databases and get a list of the phages\n",
    "\n",
    "IMG_VR_GVD_Hits_df = pd.concat([IMG_VR_spacer_df_no_euk.drop(columns=[\"host\", \"UViG\"]), GVD_Human_Gut_spacer_df])\n",
    "\n",
    "IMG_VR_phages = IMG_VR_GVD_Hits_df.drop_duplicates(subset=\"qseqid\")[IMG_VR_GVD_Hits_df.Viral_database == \"IMG_VR\"].qseqid\n",
    "GVD_phages = IMG_VR_GVD_Hits_df.drop_duplicates(subset=\"qseqid\")[IMG_VR_GVD_Hits_df.Viral_database == \"GVD_Human_Gut_Virome\"].qseqid"
   ]
  },
  {
   "cell_type": "code",
   "execution_count": 21,
   "metadata": {},
   "outputs": [],
   "source": [
    "#write header names to file\n",
    "#img vr\n",
    "with open(rootdir + \"Blast_spacers/img_vr_phage_hit_list.txt\", \"w\") as file:\n",
    "    for phage in IMG_VR_phages:\n",
    "        file.write(phage + \"\\n\")\n",
    "#gvd\n",
    "with open(rootdir + \"Blast_spacers/GVD_phages_hit_list.txt\", \"w\") as file:\n",
    "    for phage in GVD_phages:\n",
    "        file.write(phage + \"\\n\")"
   ]
  },
  {
   "cell_type": "code",
   "execution_count": null,
   "metadata": {},
   "outputs": [],
   "source": [
    "#img_vr pullseq\n",
    "pullseq = 'pullseq -n {0}Blast_spacers/img_vr_phage_hit_list.txt -i path_to_IMGVR_database/IMGVR_all_nucleotides.fna > \"{0}Blast_spacers/IMG_VR_hits.fna\"'.format(rootdir)\n",
    "os.system(pullseq)\n",
    "\n",
    "#gvd pullseq\n",
    "pullseq = 'pullseq -n {0}Blast_spacers/GVD_phages_hit_list.txt -i path_to_GVD_database/GVDv1_viralpopulations.fna > \"{0}Blast_spacers/GVD_hits.fna\"'.format(rootdir)\n",
    "os.system(pullseq)\n",
    "\n",
    "#cat IMG_VR and GVD hits\n",
    "cmd = 'cat {0}Blast_spacers/IMG_VR_hits.fna {0}Blast_spacers/GVD_hits.fna > {0}Blast_spacers/IMG_VR_GVD_hits.fna'.format(rootdir)\n",
    "os.system(cmd)"
   ]
  },
  {
   "attachments": {},
   "cell_type": "markdown",
   "metadata": {},
   "source": [
    "### Drep Phages"
   ]
  },
  {
   "cell_type": "code",
   "execution_count": 11,
   "metadata": {},
   "outputs": [],
   "source": [
    "makedir(rootdir + \"Blast_spacers/drep_phages/\")\n",
    "makedir(rootdir + \"Blast_spacers/drep_phages/prelim_genomes\")\n"
   ]
  },
  {
   "cell_type": "code",
   "execution_count": 14,
   "metadata": {},
   "outputs": [],
   "source": [
    "#Creating unique fastas for each genome and a text file with the paths\n",
    "with open(rootdir + \"Blast_spacers/drep_phages/IMG_VR_GVD_file_path.txt\", \"w\") as file:\n",
    "    for phage in SeqIO.parse(rootdir + \"Blast_spacers/IMG_VR_GVD_hits.fna\", \"fasta\"):\n",
    "        #removing pipe symbols from the file names but not the fasts headers\n",
    "        phage_id = phage.id.replace(\"|\", \"_\")\n",
    "        with open(rootdir + \"Blast_spacers/drep_phages/prelim_genomes/{0}.fna\".format(phage_id), \"w\") as fna_file:\n",
    "            fna_file.write(\">{0}\\n{1}\\n\".format(phage.id, str(phage._seq)))\n",
    "        file.write(rootdir + \"Blast_spacers/drep_phages/prelim_genomes/{0}.fna\\n\".format(phage_id))"
   ]
  },
  {
   "cell_type": "code",
   "execution_count": 13,
   "metadata": {},
   "outputs": [],
   "source": [
    "makedir(rootdir + \"Blast_spacers/drep_phages/drep_results_99_95/\")"
   ]
  },
  {
   "cell_type": "raw",
   "metadata": {},
   "source": [
    "#drep command\n",
    "dRep compare -g rootdir/Blast_spacers/drep_phages/IMG_VR_GVD_file_path.txt -p 16 -pa 0.95 -sa 0.99 --clusterAlg single rootdir/Blast_spacers/drep_phages/drep_results_99_95/"
   ]
  },
  {
   "cell_type": "code",
   "execution_count": null,
   "metadata": {},
   "outputs": [],
   "source": [
    "#read in results\n",
    "Drep_results = pd.read_csv(rootdir + \"Blast_spacers/drep_phages/drep_results_99_95/data_tables/Cdb.csv\")"
   ]
  },
  {
   "cell_type": "code",
   "execution_count": null,
   "metadata": {},
   "outputs": [],
   "source": [
    "#grabbing the dreped phages\n",
    "drep_phage_list = []\n",
    "with open(rootdir + \"/Blast_spacers/drep_phages/IMG_VR_GVD_file_path.txt\", \"w\") as text_file:\n",
    "    with open(rootdir + \"IMG_VR_GVD_hits_dRepped.fna\", \"w\") as file:\n",
    "        for phage in Drep_results.drop_duplicates(subset=\"secondary_cluster\").genome:\n",
    "            for record in SeqIO.parse(rootdir + \"Blast_spacers/drep_phages/prelim_genomes/{0}\".format(phage), \"fasta\"):\n",
    "                file.write(\">{0}\\n{1}\\n\".format(record.id, str(record._seq)))\n",
    "                text_file.write(record.id + \"\\n\")\n",
    "                drep_phage_list.append(record.id)"
   ]
  },
  {
   "attachments": {},
   "cell_type": "markdown",
   "metadata": {},
   "source": [
    "compile metadata for phage hits"
   ]
  },
  {
   "cell_type": "code",
   "execution_count": null,
   "metadata": {},
   "outputs": [],
   "source": [
    "#compile metadata for phage hits\n",
    "#phage hits complete systems\n",
    "\n",
    "gvd_img_hits = pd.concat([GVD_Human_Gut_spacer_df,IMG_VR_spacer_df_no_euk])\n",
    "gvd_img_hits[\"host\"] = gvd_img_hits[\"host\"].fillna(\"none\")\n",
    "gvd_img_hits = gvd_img_hits.rename(columns={\"qseqid\":\"phage\", \"sseqid\":\"spacer_ID\", \"mismatch\":\"cpr_spacer_mismatch\", \"qlen\":\"phage_length\", \"slen\":\"spacer_length\", \"evalue\":\"evalue_cpr_spacer_blast\", \"Coverage\":\"Spacer_coverage\", \"host\":\"IMG_VR_predicted_host\"})\n",
    "\n",
    "gvd_img_hits_sub = gvd_img_hits[[\"phage\", \"spacer_ID\", \"cpr_spacer_mismatch\", \"phage_length\", \"spacer_length\", \"Spacer_coverage\", \"IMG_VR_predicted_host\"]]"
   ]
  },
  {
   "cell_type": "code",
   "execution_count": null,
   "metadata": {},
   "outputs": [],
   "source": [
    "#only look at drepped phages\n",
    "gvd_img_hits_sub_drep = gvd_img_hits_sub[gvd_img_hits_sub.phage.isin(drep_phage_list)]"
   ]
  },
  {
   "cell_type": "code",
   "execution_count": null,
   "metadata": {},
   "outputs": [],
   "source": [
    "#make a spacer2scaf dict and mapping\n",
    "spacer2scaf = {}\n",
    "for record in SeqIO.parse(rootdir + \"All_qc_spacers_derepped.fna\", \"fasta\"):\n",
    "    scaffold_name = record.id.split(\"_spacer\")[0].split(\"_region\")[0]\n",
    "    spacer2scaf[record.id] = scaffold_name\n",
    "\n",
    "gvd_img_hits_sub_drep[\"cpr_spacer_scaffold\"] = gvd_img_hits_sub_drep.spacer_ID.map(spacer2scaf)"
   ]
  },
  {
   "cell_type": "code",
   "execution_count": null,
   "metadata": {},
   "outputs": [],
   "source": [
    "#Creating dictionary to match SGA scaffolds to a bin name\n",
    "scaf2bin_dic = {}\n",
    "for file in glob.glob(rootdir + \"All_genomes/*fna\"):\n",
    "    name = file.replace(rootdir + \"All_genomes/\", \"\").replace(\".fna\", \"\")\n",
    "    for record in SeqIO.parse(open(file), \"fasta\"):\n",
    "        scaf2bin_dic[record.description.split(\" \")[0]] = name"
   ]
  },
  {
   "cell_type": "code",
   "execution_count": null,
   "metadata": {},
   "outputs": [],
   "source": [
    "# adding in CPR bin and cpr tax\n",
    "\n",
    "#maping our assembled scaffolds to the publically avalible scaffolds\n",
    "assembled2public = {}\n",
    "assembled_scaffolds_df = pd.read_csv(rootdir + \"metadata/merged_public_assembled_scaffolds.csv\")\n",
    "for key, row in assembled_scaffolds_df.iterrows():\n",
    "    assembled2public[row[\"ccf_scaffold_name\"]] = row[\"assembled_scaffold_name\"]\n",
    "\n",
    "gvd_img_hits_sub_drep = gvd_img_hits_sub_drep.reset_index(drop=True)\n",
    "gvd_img_hits_sub_drep[\"public_cpr_scaffold\"] = \"\"\n",
    "for indA in gvd_img_hits_sub_drep.index:\n",
    "    if gvd_img_hits_sub_drep[\"cpr_spacer_scaffold\"][indA] in assembled2public.keys():\n",
    "        gvd_img_hits_sub_drep[\"public_cpr_scaffold\"][indA] = assembled2public[gvd_img_hits_sub_drep[\"cpr_spacer_scaffold\"][indA]]\n",
    "    else:\n",
    "        gvd_img_hits_sub_drep[\"public_cpr_scaffold\"][indA] = gvd_img_hits_sub_drep[\"cpr_spacer_scaffold\"][indA]\n",
    "\n",
    "#match scaffold with bin name\n",
    "gvd_img_hits_sub_drep[\"bin\"] = gvd_img_hits_sub_drep.public_cpr_scaffold.map(scaf2bin_dic)\n",
    "\n",
    "#bin2tax mapping\n",
    "bin_2_tax_df = pd.read_csv(rootdir + \"metadata/bin2tax.tsv\", \"\\t\", names=[\"bin\", \"tax\"])\n",
    "bin2tax_dict = {}\n",
    "for key, row in bin_2_tax_df.iterrows():\n",
    "    bin2tax_dict[row[\"bin\"]] = row[\"tax\"]\n",
    "\n",
    "gvd_img_hits_sub_drep[\"cpr_tax\"] = gvd_img_hits_sub_drep.bin.map(bin2tax_dict)"
   ]
  },
  {
   "cell_type": "markdown",
   "metadata": {},
   "source": [
    "## SGA Prophages"
   ]
  },
  {
   "cell_type": "code",
   "execution_count": 15,
   "metadata": {},
   "outputs": [],
   "source": [
    "makedir(rootdir + \"VIBRANT_Prophages\")"
   ]
  },
  {
   "attachments": {},
   "cell_type": "raw",
   "metadata": {},
   "source": [
    "#Vibrant command\n",
    "VIBRANT_run.py -f prot -t 16 -i rootdir/ALL_genome_proteins.faa -folder rootdir/VIBRANT_Prophages/"
   ]
  },
  {
   "cell_type": "code",
   "execution_count": null,
   "metadata": {},
   "outputs": [],
   "source": [
    "#subsetting vibrant lysogenic results to derepped genomes\n",
    "drep_clusters = pd.read_csv(rootdir + \"metadata/drep_df.csv\")\n",
    "drep_clusters = drep_clusters.drop_duplicates(subset=[\"secondary_cluster\"])\n",
    "drep_genomes = drep_clusters.genome.str.replace(\".fna\", \"\")\n",
    "\n",
    "non_in_bins = []\n",
    "with open(rootdir + \"VIBRANT_Prophages/drep_lysogenic_genes.faa\", \"w\") as file:\n",
    "    for record in SeqIO.parse(open(rootdir + \"VIBRANT_Prophages/VIBRANT_ALL_genome_proteins/VIBRANT_results_ALL_genome_proteins/ALL_genome_proteins.phages_lysogenic.faa\"), \"fasta\"):\n",
    "        bin = scaf2bin_dic[record.id.split(\"-see_note\")[0].rsplit(\"_\", 1)[0].rsplit(\"_fragment\", 1)[0]]\n",
    "        if bin in list(drep_genomes):\n",
    "            file.write(\">{0}\\n{1}\\n\".format(record.id, str(record._seq)))\n",
    "        else:\n",
    "            non_in_bins.append(bin)\n"
   ]
  },
  {
   "attachments": {},
   "cell_type": "markdown",
   "metadata": {},
   "source": [
    "## Circularizaing Phages predicted by spacer matching via Vibrant"
   ]
  },
  {
   "cell_type": "code",
   "execution_count": 16,
   "metadata": {},
   "outputs": [],
   "source": [
    "makedir(rootdir + \"VIBRANT_circularization/\")"
   ]
  },
  {
   "cell_type": "raw",
   "metadata": {},
   "source": [
    "#Vibrant Command\n",
    "VIBRANT_run.py -virome -t 16 -i rootdir/IMG_VR_GVD_hits_dRepped.fna -folder rootdir/VIBRANT_circularization/"
   ]
  },
  {
   "cell_type": "code",
   "execution_count": null,
   "metadata": {},
   "outputs": [],
   "source": [
    "#read in results\n",
    "vibrant_circularization_df = pd.read_csv(rootdir + \"VIBRANT_circularization/VIBRANT_results_VIBRANT_circularization/VIBRANT_complete_circular_VIBRANT_circularization.tsv\", sep=\"\\t\", names=[\"phage\", \"lytic_or_lysogenic\", \"circular\"])"
   ]
  },
  {
   "cell_type": "markdown",
   "metadata": {},
   "source": [
    "## Identify likely genetic code of SGA phages"
   ]
  },
  {
   "cell_type": "code",
   "execution_count": 17,
   "metadata": {},
   "outputs": [],
   "source": [
    "makedir(rootdir + \"determining_phage_genetic_code/\")\n",
    "makedir(rootdir + \"determining_phage_genetic_code/drepped_genomes/\")"
   ]
  },
  {
   "cell_type": "code",
   "execution_count": null,
   "metadata": {},
   "outputs": [],
   "source": [
    "#Creating unique fastas for each drepped genome\n",
    "for phage in SeqIO.parse(rootdir + \"IMG_VR_GVD_hits_dRepped.fna\", \"fasta\"):\n",
    "    #removing pipe symbols from the file names but not the fasts headers\n",
    "    phage_id = phage.id.replace(\"|\", \"_\")\n",
    "    with open(rootdir + \"/determining_phage_genetic_code/drepped_genomes/{0}.fna\".format(phage_id), \"w\") as fna_file:\n",
    "        fna_file.write(\">{0}\\n{1}\\n\".format(phage.id, str(phage._seq)))"
   ]
  },
  {
   "cell_type": "code",
   "execution_count": null,
   "metadata": {},
   "outputs": [],
   "source": [
    "# run prodigal varying code\n",
    "for genome in glob.glob(rootdir + \"/determining_phage_genetic_code/drepped_genomes/*.fna\"):\n",
    "    scaflen = [len(record.seq) for record in SeqIO.parse(open(genome), \"fasta\")][0]\n",
    "    if scaflen >20000:\n",
    "        for code in [\"11\", \"25\"]:\n",
    "            prodigal = \"prodigal -p single -m -a %s -d %s -g %s -i %s\" %(genome.replace(\"fna\", code + \".faa\"), genome.replace(\"fna\", code + \".genes\"), code, genome)\n",
    "            sp.call(prodigal, shell=True)\n",
    "    else:\n",
    "        prodigal = \"prodigal -p meta -m -a %s -d %s -i %s -o %s\" %(genome.replace(\"fna\", \"meta.faa\"), genome.replace(\"fna\", \"meta.genes\"), genome, genome.replace(\"fna\", \"meta.gbk\"))\n",
    "        sp.call(prodigal, shell=True)"
   ]
  },
  {
   "cell_type": "code",
   "execution_count": null,
   "metadata": {},
   "outputs": [],
   "source": [
    "#get correct phage name\n",
    "mod_phage_name2phagename_dict = {}\n",
    "for phage in glob.glob(rootdir + \"/determining_phage_genetic_code/drepped_genomes/*fna\"):\n",
    "    for record in SeqIO.parse(phage, \"fasta\"):\n",
    "        mod_phage_name2phagename_dict[(os.path.basename(phage).replace(\".fna\", \"\"))] = record.id"
   ]
  },
  {
   "cell_type": "code",
   "execution_count": null,
   "metadata": {},
   "outputs": [],
   "source": [
    "# read results back into df\n",
    "coding_info = defaultdict(list)\n",
    "for genome in glob.glob(rootdir + \"/determining_phage_genetic_code/drepped_genomes/*fna\"):\n",
    "    scaflen = [len(record.seq) for record in SeqIO.parse(open(genome), \"fasta\")][0]\n",
    "    for pred in glob.glob(genome.replace(\".fna\", \"*genes\")):\n",
    "        if \"meta\" in pred:\n",
    "            code = open(pred.replace(\"genes\", \"gbk\")).readlines()[0].rsplit(\";\", 2)[1].split(\"=\")[1]\n",
    "        else: code = os.path.basename(pred).rsplit(\".\", 2)[1]\n",
    "        nuclens = [len(record.seq) for record in SeqIO.parse(open(pred), \"fasta\")]\n",
    "        protlens = [len(record.seq) for record in SeqIO.parse(open(pred.replace(\"genes\", \"faa\")), \"fasta\")]\n",
    "        coding_info[\"phage\"].append(mod_phage_name2phagename_dict[os.path.basename(genome).replace(\".fna\", \"\")])\n",
    "        coding_info[\"scaflen\"].append(scaflen)\n",
    "        coding_info[\"code\"].append(code)\n",
    "        coding_info[\"median_orf_len\"].append(np.median(nuclens))\n",
    "        coding_info[\"median_prot_len\"].append(np.median(protlens))\n",
    "        coding_info[\"coding_density\"].append(sum(nuclens)/float(scaflen))\n",
    "coding_df = pd.DataFrame(coding_info)\n",
    "coding_df.head()"
   ]
  },
  {
   "cell_type": "code",
   "execution_count": null,
   "metadata": {},
   "outputs": [],
   "source": [
    "#comparing code 11 and code 25 for phages larger than 20 kb\n",
    "code_11_code_25_dict = defaultdict(list)\n",
    "for phage in coding_df.phage.unique():\n",
    "    sub_df = coding_df[coding_df.phage == phage]\n",
    "\n",
    "    if 11 in list(sub_df.code.astype(int)) and 25 in list(sub_df.code.astype(int)):\n",
    "        code_11_code_25_dict[\"phage\"].append(phage)\n",
    "\n",
    "        for key, row in sub_df.iterrows():\n",
    "            if int(row[\"code\"]) == 11:\n",
    "                code_11_code_25_dict[\"code_11_CD\"].append(row[\"coding_density\"])\n",
    "            if int(row[\"code\"]) == 25:\n",
    "                code_11_code_25_dict[\"code_25_CD\"].append(row[\"coding_density\"])\n",
    "\n",
    "code_11_code_25_df = pd.DataFrame(code_11_code_25_dict)\n",
    "code_11_code_25_df[\"delta_11_to_25\"] = code_11_code_25_df.code_25_CD.astype(float) - code_11_code_25_df.code_11_CD.astype(float)\n",
    "\n",
    "#save these data\n",
    "code_11_code_25_df.to_csv(rootdir + \"/determining_phage_genetic_code/IMG_VR_GVD_code_11_code_25.csv\", index=False)"
   ]
  },
  {
   "cell_type": "markdown",
   "metadata": {},
   "source": [
    "### Likely Genetic Code of SGA Prophages"
   ]
  },
  {
   "cell_type": "code",
   "execution_count": 21,
   "metadata": {},
   "outputs": [],
   "source": [
    "makedir(rootdir + \"determining_phage_genetic_code/prophages\")\n",
    "makedir(rootdir + \"determining_phage_genetic_code/prophages/prophage_genomes/\")"
   ]
  },
  {
   "cell_type": "code",
   "execution_count": null,
   "metadata": {},
   "outputs": [],
   "source": [
    "#read in Vibrant prophage coordinates\n",
    "vibrant_prophage_df = pd.read_csv(rootdir + \"VIBRANT_Prophages/VIBRANT_ALL_database_proteins/VIBRANT_results_ALL_genome_proteins/VIBRANT_integrated_prophage_coordinates_ALL_genome_proteins.tsv\", sep=\"\\t\")\n",
    "\n",
    "#adding bin name\n",
    "vibrant_prophage_df[\"bin\"] = vibrant_prophage_df[\"scaffold\"].map(scaf2bin_dic)\n",
    "\n",
    "\n",
    "#adding SGA taxonomy\n",
    "bin_2_tax_df = pd.read_csv(\"/groups/banfield/users/ajaffe/cpr-dpann/crossenv/genomes/metadata/bin2tax.tsv\", \"\\t\", names=[\"bin\", \"tax\"])\n",
    "vibrant_prophage_df = vibrant_prophage_df.merge(bin_2_tax_df, how=\"left\", on=\"bin\")\n"
   ]
  },
  {
   "cell_type": "code",
   "execution_count": null,
   "metadata": {},
   "outputs": [],
   "source": [
    "#grabbing the prophage_scaffold\n",
    "for key, row in vibrant_prophage_df.iterrows():\n",
    "    scaf_bin = rootdir + \"All_genomes/\" + row[\"bin\"] + \".fna\"\n",
    "    for record in SeqIO.parse(open(scaf_bin), \"fasta\"):\n",
    "        if record.id == row[\"scaffold\"]:\n",
    "            phage_seq = record._seq\n",
    "            with open(rootdir + \"determining_phage_genetic_code/prophages/prophage_genomes/\" + row[\"scaffold\"] + \".fna\", \"w\") as file:\n",
    "                file.write(\">\" + row['scaffold'] + \"\\n\" + str(phage_seq) + \"\\n\")"
   ]
  },
  {
   "cell_type": "code",
   "execution_count": 24,
   "metadata": {},
   "outputs": [],
   "source": [
    "makedir(rootdir + \"determining_phage_genetic_code/prophages/prodigal_predictions/\")"
   ]
  },
  {
   "cell_type": "code",
   "execution_count": null,
   "metadata": {},
   "outputs": [],
   "source": [
    "# run prodigal varying code, only on scaffolds > 20 kb\n",
    "for genome in glob.glob(rootdir + \"determining_phage_genetic_code/prophages/prophage_genomes/*.fna\"):\n",
    "    output = genome.replace(\"prophage_genomes\", \"prodigal_predictions\")\n",
    "    scaflen = [len(record.seq) for record in SeqIO.parse(open(genome), \"fasta\")][0]\n",
    "    if scaflen >20000:\n",
    "        for code in [\"11\", \"15\", \"25\"]:\n",
    "            prodigal = \"prodigal -p single -m -a %s -d %s -g %s -i %s\" %(output.replace(\"fna\", code + \".faa\"), output.replace(\"fna\", code + \".genes\"), code, genome)\n",
    "            sp.call(prodigal, shell=True)"
   ]
  },
  {
   "cell_type": "code",
   "execution_count": null,
   "metadata": {},
   "outputs": [],
   "source": [
    "#grabbing the coding density of the phages in different codes (not the coding density of the entire scaffold)\n",
    "coding_info = defaultdict(list)\n",
    "for key, row in vibrant_prophage_df.iterrows():\n",
    "    scaffold = row[\"scaffold\"]\n",
    "    phage_start = row[\"nucleotide start\"]\n",
    "    phage_end = row[\"nucleotide stop\"]\n",
    "\n",
    "    #grabbing the genes in different codes that are within the prophage region\n",
    "    for pred in glob.glob(rootdir + \"determining_phage_genetic_code/prophages/prodigal_predictions/\" + scaffold + \"*genes\"):\n",
    "        code = os.path.basename(pred).rsplit(\".\", 2)[1]\n",
    "        nuclens = []\n",
    "        for record in SeqIO.parse(open(pred), \"fasta\"):\n",
    "            start = int(record.description.split(\" # \")[1])\n",
    "            end = int(record.description.split(\" # \")[2])\n",
    "            #check if gene is in the prophage region\n",
    "            if start >= phage_start and end <= phage_end:\n",
    "                nuclens.append(len(record._seq))\n",
    "        coding_info[\"fragment\"].append(row[\"fragment\"])\n",
    "        coding_info[\"code\"].append(code)\n",
    "        #computing coding_density by comparing to the vibrant predicted nucleotide length\n",
    "        coding_info[\"coding_density\"].append(sum(nuclens)/float(row[\"nucleotide length\"]))\n",
    "coding_df = pd.DataFrame(coding_info)"
   ]
  },
  {
   "cell_type": "code",
   "execution_count": null,
   "metadata": {},
   "outputs": [],
   "source": [
    "#making coding density dicts and merging\n",
    "prophage_code_11_cd = {}\n",
    "prophage_code_25_cd = {}\n",
    "for key, row in coding_df.iterrows():\n",
    "    if int(row[\"code\"]) == 11:\n",
    "        prophage_code_11_cd[row[\"fragment\"]] = row[\"coding_density\"]\n",
    "    if int(row[\"code\"]) == 25:\n",
    "        prophage_code_25_cd[row[\"fragment\"]] = row[\"coding_density\"]\n",
    "\n",
    "vibrant_prophage_df[\"code_11_cd\"] = vibrant_prophage_df.fragment.map(prophage_code_11_cd)\n",
    "vibrant_prophage_df[\"code_25_cd\"] = vibrant_prophage_df.fragment.map(prophage_code_25_cd)\n",
    "\n",
    "#getting the delta CD\n",
    "delta_cd_dict = {}\n",
    "for key, row in vibrant_prophage_df.iterrows():\n",
    "    delta_cd = row[\"code_25_cd\"] - row[\"code_11_cd\"]\n",
    "    delta_cd_dict[row[\"fragment\"]] = delta_cd\n",
    "\n",
    "vibrant_prophage_df[\"delta_11_25\"] = vibrant_prophage_df.fragment.map(delta_cd_dict)"
   ]
  },
  {
   "cell_type": "code",
   "execution_count": null,
   "metadata": {},
   "outputs": [],
   "source": [
    "#save\n",
    "vibrant_prophage_df.to_csv(rootdir + \"determining_phage_genetic_code/Prophage_cpr_code_11_code_25_coding_densities.csv\", index=False)"
   ]
  },
  {
   "attachments": {},
   "cell_type": "markdown",
   "metadata": {},
   "source": [
    "## Pvog annotation of phage genes in code 11 and code 25"
   ]
  },
  {
   "cell_type": "code",
   "execution_count": 25,
   "metadata": {},
   "outputs": [],
   "source": [
    "makedir(rootdir + \"determining_phage_genetic_code/pvog_annotations/\")"
   ]
  },
  {
   "cell_type": "code",
   "execution_count": null,
   "metadata": {},
   "outputs": [],
   "source": [
    "#cat all code 11 protein calls and code 25 protein calls\n",
    "cat_11 = \"cat {0}determining_phage_genetic_code/drepped_genomes/*.11.faa > {0}determining_phage_genetic_code/pvog_annotations/phage_code_11.faa\".format(rootdir)\n",
    "cat_25 = \"cat {0}determining_phage_genetic_code/drepped_genomes/*.25.faa > {0}determining_phage_genetic_code/pvog_annotations/phage_code_11.faa\"\n",
    "os.system(cat_11)\n",
    "os.system(cat_25)"
   ]
  },
  {
   "cell_type": "raw",
   "metadata": {},
   "source": [
    "#pvog search commands\n",
    "#code 11\n",
    "hmmsearch --cpu 16 --tblout rootdir/determining_phage_genetic_code/pvog_annotations/phage_code_11_pvog_all.csv path_to_pvog/AllvogHMMprofiles_cat.hmm rootdir/determining_phage_genetic_code/pvog_annotations/phage_code_11.faa\n",
    "#code 25\n",
    "hmmsearch --cpu 16 --tblout rootdir/determining_phage_genetic_code/pvog_annotations/phage_code_25_pvog_all.csv path_to_pvog/AllvogHMMprofiles_cat.hmm rootdir/determining_phage_genetic_code/pvog_annotations/phage_code_25.faa"
   ]
  },
  {
   "cell_type": "code",
   "execution_count": 26,
   "metadata": {},
   "outputs": [],
   "source": [
    "#hmm parse function\n",
    "def parse_hmm(result_table):\n",
    "    temp = {}\n",
    "    count = 0\n",
    "    # parse each result file using searchio\n",
    "    for result in SearchIO.parse(result_table, \"hmmer3-tab\"):\n",
    "        for item in result.hits:\n",
    "            temp[count] = {\"gene\": item.id, \"score\": item.bitscore, \"eval\": item.evalue, \"pvog_query\": result.id}\n",
    "            count += 1\n",
    "    return(pd.DataFrame.from_dict(temp, orient=\"index\"))"
   ]
  },
  {
   "cell_type": "code",
   "execution_count": null,
   "metadata": {},
   "outputs": [],
   "source": [
    "#parse the pvog hmm results\n",
    "pvog_code_11_hmm_df = parse_hmm(rootdir + \"/determining_phage_genetic_code/pvog_annotations/phage_code_11_pvog_all.csv\")\n",
    "pvog_code_25_hmm_df = parse_hmm(rootdir + \"/determining_phage_genetic_code/pvog_annotations/phage_code_25_pvog_all.csv\")"
   ]
  },
  {
   "cell_type": "code",
   "execution_count": null,
   "metadata": {},
   "outputs": [],
   "source": [
    "#getting phage cpr tax\n",
    "phage_targeting_tax_df = gvd_img_hits_sub_drep[[\"phage\", \"cpr_tax\"]]\n",
    "phage_targeting_tax_df = phage_targeting_tax_df.rename(columns={\"tax\":\"cpr_tax\"})"
   ]
  },
  {
   "cell_type": "code",
   "execution_count": null,
   "metadata": {},
   "outputs": [],
   "source": [
    "#reading in the meta data for each pvog accession\n",
    "pvog_all_tables_df = pd.read_csv(\"/groups/banfield/projects/multienv/cpr/2020/tm7_sr1_gracili/Env_CPR_Alex/pVOG_HMM_Profiles/pvog_all_tables.csv\")\n",
    "#making a smaller pvog metadata table for merging\n",
    "pvog_all_tables_df_sub = pvog_all_tables_df[[\"pvog_query\", \"pvog_def\"]]"
   ]
  },
  {
   "cell_type": "code",
   "execution_count": null,
   "metadata": {},
   "outputs": [],
   "source": [
    "#filtering pvog results based on evalue and dropping duplicates (code 11)\n",
    "pvog_code_11_hmm_df_duplicates_dropped = pvog_code_11_hmm_df[pvog_code_11_hmm_df[\"eval\"] < 0.00001]\n",
    "pvog_code_11_hmm_df_duplicates_dropped = pvog_code_11_hmm_df_duplicates_dropped.sort_values(by=[\"eval\"]).drop_duplicates(subset=[\"gene\"])\n",
    "pvog_code_11_hmm_df_duplicates_dropped[\"phage\"] = pvog_code_11_hmm_df_duplicates_dropped[\"gene\"].apply(lambda x: x.rsplit(\"_\",1)[0])\n",
    "pvog_code_11_hmm_df_duplicates_dropped = pvog_code_11_hmm_df_duplicates_dropped.merge(phage_targeting_tax_df, how=\"left\", on=\"phage\")\n",
    "pvog_code_11_hmm_df_duplicates_dropped = pvog_code_11_hmm_df_duplicates_dropped.merge(pvog_all_tables_df_sub, how=\"left\", on=[\"pvog_query\"])\n",
    "pvog_code_11_hmm_df_duplicates_dropped = pvog_code_11_hmm_df_duplicates_dropped.sort_values(by=[\"eval\"]).drop_duplicates(subset=[\"gene\"])\n",
    "pvog_code_11_hmm_df_duplicates_dropped[\"code\"] = 11\n",
    "pvog_code_11_hmm_df_duplicates_dropped[\"gene\"] = pvog_code_11_hmm_df_duplicates_dropped[\"gene\"].apply(lambda x: x + \"_code_11\")\n",
    "\n",
    "#save\n",
    "pvog_code_11_hmm_df_duplicates_dropped.to_csv(rootdir + \"determining_phage_genetic_code/pvog_annotations/pvog_code_11_hmm_df_duplicates_dropped.csv\", index=False)"
   ]
  },
  {
   "cell_type": "code",
   "execution_count": null,
   "metadata": {},
   "outputs": [],
   "source": [
    "#filtering pvog results based on evalue and dropping duplicates (code 25)\n",
    "pvog_code_25_hmm_df_duplicates_dropped = pvog_code_25_hmm_df[pvog_code_25_hmm_df[\"eval\"] < 0.00001]\n",
    "pvog_code_25_hmm_df_duplicates_dropped = pvog_code_25_hmm_df_duplicates_dropped.sort_values(by=[\"eval\"]).drop_duplicates(subset=[\"gene\"])\n",
    "pvog_code_25_hmm_df_duplicates_dropped[\"phage\"] = pvog_code_25_hmm_df_duplicates_dropped[\"gene\"].apply(lambda x: x.rsplit(\"_\",1)[0])\n",
    "pvog_code_25_hmm_df_duplicates_dropped = pvog_code_25_hmm_df_duplicates_dropped.merge(phage_targeting_tax_df, how=\"left\", on=\"phage\")\n",
    "pvog_code_25_hmm_df_duplicates_dropped = pvog_code_25_hmm_df_duplicates_dropped.merge(pvog_all_tables_df_sub, how=\"left\", on=[\"pvog_query\"])\n",
    "pvog_code_25_hmm_df_duplicates_dropped = pvog_code_25_hmm_df_duplicates_dropped.sort_values(by=[\"eval\"]).drop_duplicates(subset=[\"gene\"])\n",
    "pvog_code_25_hmm_df_duplicates_dropped[\"code\"] = 25\n",
    "pvog_code_25_hmm_df_duplicates_dropped[\"gene\"] = pvog_code_25_hmm_df_duplicates_dropped[\"gene\"].apply(lambda x: x + \"_code_25\")\n",
    "\n",
    "#save\n",
    "pvog_code_25_hmm_df_duplicates_dropped.to_csv(rootdir + \"determining_phage_genetic_code/pvog_annotations/pvog_code_25_hmm_df_duplicates_dropped.csv\", index=False)"
   ]
  },
  {
   "cell_type": "markdown",
   "metadata": {},
   "source": [
    "## Finding in-frame stop codons"
   ]
  },
  {
   "cell_type": "code",
   "execution_count": null,
   "metadata": {},
   "outputs": [],
   "source": [
    "#code 25 gene files for cpr phage\n",
    "phage_genes_25_dict = defaultdict(list)\n",
    "for file in glob.glob(rootdir + \"determining_phage_genetic_code/drepped_genomes/*.25.genes\"):\n",
    "    for record in SeqIO.parse(file, \"fasta\"):\n",
    "        phage_genes_25_dict[\"phage_gene\"].append(record.id + \"_code_25\")\n",
    "        phage_genes_25_dict[\"phage\"].append(str(record.id).rsplit(\"_\",1)[0])\n",
    "        phage_genes_25_dict[\"NA_sequence\"].append(str(record._seq))\n",
    "        phage_genes_25_dict[\"Stop_codon\"].append(str(record._seq[-3:]))\n",
    "        phage_genes_25_dict[\"orf_length\"].append(len(record._seq))\n",
    "        phage_genes_25_dict[\"start\"].append(record.description.split(\"#\")[1])\n",
    "        phage_genes_25_dict[\"end\"].append(record.description.split(\"#\")[2])\n",
    "        phage_genes_25_dict[\"strand\"].append(record.description.split(\"#\")[3])\n",
    "        phage_genes_25_dict[\"code\"].append(25)\n",
    "phage_genes_25_df = pd.DataFrame(phage_genes_25_dict)"
   ]
  },
  {
   "cell_type": "code",
   "execution_count": null,
   "metadata": {},
   "outputs": [],
   "source": [
    "#code 11 gene files for cpr phage\n",
    "phage_genes_11_dict = defaultdict(list)\n",
    "for file in glob.glob(rootdir + \"determining_phage_genetic_code/drepped_genomes/*.11.genes\"):\n",
    "    for record in SeqIO.parse(file, \"fasta\"):\n",
    "        phage_genes_11_dict[\"phage_gene\"].append(record.id + \"_code_11\")\n",
    "        phage_genes_11_dict[\"phage\"].append(str(record.id).rsplit(\"_\",1)[0])\n",
    "        phage_genes_11_dict[\"NA_sequence\"].append(str(record._seq))\n",
    "        phage_genes_11_dict[\"Stop_codon\"].append(str(record._seq[-3:]))\n",
    "        phage_genes_11_dict[\"orf_length\"].append(len(record._seq))\n",
    "        phage_genes_11_dict[\"start\"].append(record.description.split(\"#\")[1])\n",
    "        phage_genes_11_dict[\"end\"].append(record.description.split(\"#\")[2])\n",
    "        phage_genes_11_dict[\"strand\"].append(record.description.split(\"#\")[3])\n",
    "        phage_genes_11_dict[\"code\"].append(11)\n",
    "phage_genes_11_df = pd.DataFrame(phage_genes_11_dict)"
   ]
  },
  {
   "cell_type": "code",
   "execution_count": null,
   "metadata": {},
   "outputs": [],
   "source": [
    "#concat tables\n",
    "phage_genes_11_and_25 = pd.concat([phage_genes_25_df,phage_genes_11_df])"
   ]
  },
  {
   "cell_type": "code",
   "execution_count": null,
   "metadata": {},
   "outputs": [],
   "source": [
    "#add in cpr taxnomomy\n",
    "phage_genes_11_and_25 = phage_genes_11_and_25.merge(phage_targeting_tax_df, how=\"left\", on=\"phage\")\n",
    "phage_genes_11_and_25 = phage_genes_11_and_25.drop_duplicates(subset = \"phage_gene\")"
   ]
  },
  {
   "cell_type": "code",
   "execution_count": null,
   "metadata": {},
   "outputs": [],
   "source": [
    "#grab pvog results\n",
    "pvog_code_11_25_hmm_df_duplicates_dropped = pd.concat([pvog_code_25_hmm_df_duplicates_dropped,pvog_code_11_hmm_df_duplicates_dropped])\n",
    "\n",
    "gene2pvog = {}\n",
    "for key,row in pvog_code_11_25_hmm_df_duplicates_dropped.iterrows():\n",
    "    gene2pvog[row[\"gene\"]] = row[\"pvog_def\"]\n",
    "\n",
    "#add in pvog results\n",
    "phage_genes_11_and_25[\"pvog_def\"] = phage_genes_11_and_25[\"phage_gene\"].map(gene2pvog)\n",
    "phage_genes_11_and_25 = phage_genes_11_and_25.fillna(\"unknown\")\n",
    "\n",
    "#save\n",
    "phage_genes_11_and_25.to_csv(rootdir + \"determining_phage_genetic_code/pvog_annotations/phage_genes_with_pvog_code_11_code_25.csv\")"
   ]
  },
  {
   "cell_type": "code",
   "execution_count": null,
   "metadata": {},
   "outputs": [],
   "source": [
    "#finding inframe stop codons\n",
    "stop_codons = [\"TAG\", \"TAA\", \"TGA\"]\n",
    "\n",
    "#finding stop codons in each orf\n",
    "stop_codon_localization_dict = defaultdict(list)\n",
    "for key, row in phage_genes_11_and_25.iterrows():\n",
    "    seq = row[\"NA_sequence\"]\n",
    "    seq_len = len(seq)\n",
    "    gene = row[\"gene\"]\n",
    "    gene_start = float(row[\"start\"])\n",
    "    gene_end = float(row[\"end\"])\n",
    "    strand = int(row[\"strand\"])\n",
    "    #looking at each codon in the reading frame\n",
    "    count = 0\n",
    "    for start in range(0,seq_len,3):\n",
    "        stop = start + 3\n",
    "        codon = seq[start:stop]\n",
    "        #pulling out TGA codons\n",
    "        for stop_codon in stop_codons:\n",
    "            if codon == stop_codon:\n",
    "                codon_start = gene_start + start\n",
    "                codon_end = gene_end - stop\n",
    "                count += 1\n",
    "                TGA_header = gene + \"_\" + \"code_\" + str(row[\"code\"]) + \"_\" + stop_codon + \"_\" + str(count)\n",
    "                #creating a \"localization percentage\" to quantify where on the protein the TGA is, the higher the percentage the closer to the end of the protein\n",
    "                TGA_percentage_along_protein = stop/(seq_len)*100\n",
    "                NA_to_end_of_protein = seq_len - stop\n",
    "                codons_to_end_of_protein = NA_to_end_of_protein/3\n",
    "                stop_codon_localization_dict[\"stop_codon_number\"].append(TGA_header)\n",
    "                stop_codon_localization_dict[\"stop_codon\"].append(stop_codon)\n",
    "                stop_codon_localization_dict[\"phage_gene\"].append(gene)\n",
    "                stop_codon_localization_dict[\"phage_gene_start\"].append(gene_start)\n",
    "                stop_codon_localization_dict[\"phage_gene_end\"].append(gene_end)\n",
    "                stop_codon_localization_dict[\"phage\"].append(row[\"phage\"])\n",
    "                stop_codon_localization_dict[\"cpr_tax\"].append(row[\"cpr_tax\"])\n",
    "                stop_codon_localization_dict[\"code\"].append(row[\"code\"])\n",
    "                stop_codon_localization_dict[\"strand\"].append(row[\"strand\"])\n",
    "                if strand == 1:\n",
    "                    codon_start = gene_start + start\n",
    "                    codon_end = gene_start + stop\n",
    "                    stop_codon_localization_dict[\"start\"].append(codon_start)\n",
    "                    stop_codon_localization_dict[\"end\"].append(codon_end)\n",
    "                if strand == -1:\n",
    "                    codon_start = gene_start + (seq_len - stop)\n",
    "                    codon_end = gene_start + (seq_len - start)\n",
    "                    stop_codon_localization_dict[\"start\"].append(codon_start)\n",
    "                    stop_codon_localization_dict[\"end\"].append(codon_end)\n",
    "stop_codon_localization_df = pd.DataFrame(stop_codon_localization_dict)\n",
    "\n",
    "#save\n",
    "stop_codon_localization_df.to_csv(rootdir + \"determining_phage_genetic_code/pvog_annotations/stop_codon_localization_df.csv\", index=False)"
   ]
  },
  {
   "attachments": {},
   "cell_type": "markdown",
   "metadata": {},
   "source": [
    "## Gene sharing network of phages"
   ]
  },
  {
   "cell_type": "code",
   "execution_count": 29,
   "metadata": {},
   "outputs": [],
   "source": [
    "makedir(rootdir + \"Gene_sharing_networks\")\n",
    "makedir(rootdir + \"Gene_sharing_networks/phage_gene_sharing_network/\")"
   ]
  },
  {
   "cell_type": "code",
   "execution_count": null,
   "metadata": {},
   "outputs": [],
   "source": [
    "#grab earth virome sr1 phages Paez-Espino et al. 2016\n",
    "earth_virome_host_metadata_df = pd.read_csv(rootdir + \"metadata/Earth_virome_host_metadata.csv\")\n",
    "earth_virome_host_metadata_df_sr1 = earth_virome_host_metadata_df[earth_virome_host_metadata_df.fillna(\"none\").Host.str.contains(\"Sr1\", case=False)]\n",
    "earth_virome_host_metadata_df_sr1[\"TaxonID\"] = earth_virome_host_metadata_df_sr1[\"ALL (125,842) mVCs (TaxonID_ScaffoldID)\"].apply(lambda x: x.split(\"_\", 1)[0])\n",
    "earth_virome_host_metadata_df_sr1[\"Scaffold_ID\"] = earth_virome_host_metadata_df_sr1[\"ALL (125,842) mVCs (TaxonID_ScaffoldID)\"].apply(lambda x: x.split(\"_\", 1)[1])\n",
    "\n",
    "with open(rootdir + \"Gene_sharing_networks/phage_gene_sharing_network/earth_virome_SR1_phages.fna\", \"w\") as file:\n",
    "    for record in SeqIO.parse(\"path_to_earth_virome_database/earth_virome_database/mVGs_sequences_v2.fna\", \"fasta\"):\n",
    "        for scaffold in earth_virome_host_metadata_df_sr1[\"Scaffold_ID\"].unique():\n",
    "            if scaffold in record.id:\n",
    "                file.write(\">{0}\\n{1}\\n\".format(scaffold, str(record._seq)))\n",
    "\n",
    "#prodigal code 25\n",
    "cmd = \"prodigal -i {0}Gene_sharing_networks/phage_gene_sharing_network/earth_virome_SR1_phages.fna -a {0}Gene_sharing_networks/phage_gene_sharing_network/earth_virome_SR1_phages.faa -g 25\".format(rootdir)\n",
    "os.system(cmd)"
   ]
  },
  {
   "cell_type": "code",
   "execution_count": null,
   "metadata": {},
   "outputs": [],
   "source": [
    "#extract OVD saccharibacteria phages Li et al. 2022\n",
    "\n",
    "#metadata\n",
    "ovd_host_df = pd.read_csv(rootdir + \"metadata/OVD-info.csv\")\n",
    "saccharibacteria_phage_ovd_list = ovd_host_df[ovd_host_df.Host_taxonomy.str.contains(\"Saccharimonadia\", case=False)][\"vOTU ID\"].unique()\n",
    "\n",
    "#grab genomes\n",
    "with open(rootdir + \"Gene_sharing_networks/phage_gene_sharing_network/OVD-Saccharibacteria_phages.fna\", \"w\") as file:\n",
    "    for record in SeqIO.parse(\"path_to_OVD_database/OVD-genomes.fa\", \"fasta\"):\n",
    "        if record.id in saccharibacteria_phage_ovd_list:\n",
    "            count += 1\n",
    "            file.write(\">{0}\\n{1}\\n\".format(record.id, str(record._seq)))\n",
    "\n",
    "#prodigal of OVD phages\n",
    "cmd = \"prodigal -i {0}Gene_sharing_networks/phage_gene_sharing_network/OVD-Saccharibacteria_phages.fna -a {0}Gene_sharing_networks/phage_gene_sharing_network/OVD-Saccharibacteria_phages.faa -g 11\".format(rootdir)\n",
    "os.system(cmd)\n"
   ]
  },
  {
   "attachments": {},
   "cell_type": "markdown",
   "metadata": {},
   "source": [
    "IMG VR Gracilibacteria phages and Borges et al. 2021 Absconditabacteria phages extracted manually (available in the metadata folder)"
   ]
  },
  {
   "cell_type": "code",
   "execution_count": null,
   "metadata": {},
   "outputs": [],
   "source": [
    "#grabbing proteins from phages identified in this study\n",
    "#getting code 25 for gra and abs phages, code 11 for sac phages\n",
    "for key, row in gvd_img_hits_sub.iterrows():\n",
    "    if row['cpr_tax'] == \"Saccharibacteria\":\n",
    "        phage = row[\"phage\"].replace(\"|\",\"_\")\n",
    "        cat = 'cat {0}determining_phage_genetic_code/drepped_genomes/<phage>.11.faa >> {0}Gene_sharing_networks/phage_gene_sharing_network/CPR_phage.faa'.replace(\"<phage>\", phage).format(rootdir)\n",
    "        os.system(cat)\n",
    "        #meta phages\n",
    "        cat = 'cat {0}determining_phage_genetic_code/drepped_genomes/<phage>.meta.faa >> /{0}Gene_sharing_networks/phage_gene_sharing_network/CPR_phage.faa'.replace(\"<phage>\", phage).format(rootdir)\n",
    "        os.system(cat)\n",
    "    if (row[\"cpr_tax\"] == \"Gracilibacteria\" or row[\"cpr_tax\"] == \"Absconditabacteria\"):\n",
    "        phage = row[\"phage\"].replace(\"|\",\"_\")\n",
    "        cat = 'cat {0}determining_phage_genetic_code/drepped_genomes/<phage>.25.faa >> {0}Gene_sharing_networks/phage_gene_sharing_network/CPR_phage.faa'.replace(\"<phage>\", phage).format(rootdir)\n",
    "        os.system(cat)\n",
    "        #meta phages\n",
    "        cat = 'cat {0}determining_phage_genetic_code/drepped_genomes/<phage>.meta.faa >> {0}Gene_sharing_networks/phage_gene_sharing_network/CPR_phage.faa'.replace(\"<phage>\", phage).format(rootdir)\n",
    "        os.system(cat)"
   ]
  },
  {
   "cell_type": "code",
   "execution_count": null,
   "metadata": {},
   "outputs": [],
   "source": [
    "#cat all phages together\n",
    "cat = 'cat {0}Gene_sharing_networks/phage_gene_sharing_network/CPR_phage.faa {0}metadata/Borges_abs_phages.faa {0}metadata/img_vr_gra_phages.faa {0}VIBRANT_Prophages/drep_lysogenic_genes.faa {0}Gene_sharing_networks/phage_gene_sharing_network/OVD-Saccharibacteria_phages.faa {0}Gene_sharing_networks/phage_gene_sharing_network/earth_virome_SR1_phages.faa > {0}Gene_sharing_networks/phage_gene_sharing_network/all_phages_for_network.faa'.format(rootdir)\n",
    "os.system(cat)"
   ]
  },
  {
   "attachments": {},
   "cell_type": "markdown",
   "metadata": {},
   "source": [
    "grabbing keywords for vcontact 2"
   ]
  },
  {
   "cell_type": "code",
   "execution_count": null,
   "metadata": {},
   "outputs": [],
   "source": [
    "phage_dict = defaultdict(list)\n",
    "for record in SeqIO.parse(rootdir + \"Gene_sharing_networks/phage_gene_sharing_network/all_phages_for_network.faa\", \"fasta\"):\n",
    "    phage_dict[\"protein_id\"].append(record.name)\n",
    "    phage_dict[\"contig_id\"].append(record.name.rsplit(\"_\",1)[0].rsplit(\"_fragment\",1)[0])\n",
    "phage_df = pd.DataFrame(phage_dict) "
   ]
  },
  {
   "cell_type": "code",
   "execution_count": null,
   "metadata": {},
   "outputs": [],
   "source": [
    "cpr_keywords = {}\n",
    "#phages identified in this study\n",
    "for key, row in gvd_img_hits_sub_drep.iterrows():\n",
    "    cpr_keywords[row[\"phage\"]] = row[\"cpr_tax\"]"
   ]
  },
  {
   "cell_type": "code",
   "execution_count": null,
   "metadata": {},
   "outputs": [],
   "source": [
    "#borges et al. keywords\n",
    "borges_dict = {}\n",
    "for record in SeqIO.parse(rootdir + \"metdata/Borges_abs_phages.faa\", \"fasta\"):\n",
    "    borges_dict[record.name.rsplit(\"_\",1)[0]] = \"Borges_code_25_ABS\""
   ]
  },
  {
   "cell_type": "code",
   "execution_count": null,
   "metadata": {},
   "outputs": [],
   "source": [
    "#prophage key words\n",
    "vibrant_prophage_keywords = {}\n",
    "for record in SeqIO.parse(rootdir + \"VIBRANT_Prophages/drep_lysogenic_genes.faa\", \"fasta\"):\n",
    "    vibrant_prophage_keywords[record.id.rsplit(\"-see\",1)[0].rsplit(\"_\",1)[0].rsplit(\"_fragment\",1)[0]] = bin2tax_dict[scaf2bin_dic[record.id.rsplit(\"_\",1)[0].rsplit(\"_fragment\",1)[0]]] + \"_prophage\""
   ]
  },
  {
   "cell_type": "code",
   "execution_count": null,
   "metadata": {},
   "outputs": [],
   "source": [
    "#grab ovd key words\n",
    "ovd_dict = {}\n",
    "for record in SeqIO.parse(rootdir + \"Gene_sharing_networks/phage_gene_sharing_network/OVD-Saccharibacteria_phages.faa\", \"fasta\"):\n",
    "    ovd_dict[record.name.rsplit(\"_\",1)[0]] = \"OVD_Saccharibacteria\""
   ]
  },
  {
   "cell_type": "code",
   "execution_count": null,
   "metadata": {},
   "outputs": [],
   "source": [
    "#grab img vr gra keywords\n",
    "imgvr_gra_dict = {}\n",
    "for record in SeqIO.parse(rootdir + \"metadata/img_vr_gra_phages.faa\", \"fasta\"):\n",
    "    imgvr_gra_dict[record.name.rsplit(\"_\",1)[0]] = \"IMG_VR_Gra\""
   ]
  },
  {
   "cell_type": "code",
   "execution_count": null,
   "metadata": {},
   "outputs": [],
   "source": [
    "#grab earth virome sr1 phages keywords\n",
    "earth_virome_dict = {}\n",
    "for record in SeqIO.parse(rootdir + \"Gene_sharing_networks/phage_gene_sharing_network/earth_virome_SR1_phages.faa\", \"fasta\"):\n",
    "    earth_virome_dict[record.name.rsplit(\"_\",1)[0]] = \"Earth_virome_sr1\""
   ]
  },
  {
   "cell_type": "code",
   "execution_count": null,
   "metadata": {},
   "outputs": [],
   "source": [
    "cpr_all_keywords = {}\n",
    "cpr_all_keywords.update(cpr_keywords)\n",
    "cpr_all_keywords.update(borges_dict)\n",
    "cpr_all_keywords.update(vibrant_prophage_keywords)\n",
    "cpr_all_keywords.update(ovd_dict)\n",
    "cpr_all_keywords.update(imgvr_gra_dict)\n",
    "cpr_all_keywords.update(earth_virome_dict)"
   ]
  },
  {
   "cell_type": "code",
   "execution_count": null,
   "metadata": {},
   "outputs": [],
   "source": [
    "#map keywords\n",
    "phage_df[\"host_tax\"] = phage_df[\"contig_id\"].map(cpr_all_keywords)\n",
    "\n",
    "#save (for vContact 2 colors)\n",
    "phage_df[[\"contig_id\",\"host_tax\"]].drop_duplicates(subset=\"contig_id\").to_csv(rootdir + \"Gene_sharing_networks/phage_gene_sharing_network/cytoscape_colors.csv\", index=False)\n",
    "\n",
    "#save genes to genome file\n",
    "phage_df.to_csv(rootdir + \"Gene_sharing_networks/phage_gene_sharing_network/gene2genome.csv\", index=False)"
   ]
  },
  {
   "cell_type": "code",
   "execution_count": 30,
   "metadata": {},
   "outputs": [],
   "source": [
    "makedir(rootdir + \"Gene_sharing_networks/phage_gene_sharing_network/vContact2_output\")"
   ]
  },
  {
   "cell_type": "raw",
   "metadata": {},
   "source": [
    "#vcontact 2 command\n",
    "vcontact2 -t 16 --raw-proteins rootdir/Gene_sharing_networks/phage_gene_sharing_network/all_phages_for_network.faa --rel-mode Diamond --proteins-fp rootdir/Gene_sharing_networks/phage_gene_sharing_network/gene2genome.csv --db 'ProkaryoticViralRefSeq201-Merged' --pcs-mode MCL --vcs-mode ClusterONE --c1-bin path_to_vContact2_cluster_one/cluster_one-1.0.jar --output-dir rootdir/Gene_sharing_networks/phage_gene_sharing_network/vContact2_output\n"
   ]
  },
  {
   "attachments": {},
   "cell_type": "markdown",
   "metadata": {},
   "source": [
    "## Gene Sharing network with the CPR bacteria themselves"
   ]
  },
  {
   "cell_type": "code",
   "execution_count": 32,
   "metadata": {},
   "outputs": [],
   "source": [
    "makedir(rootdir + \"Gene_sharing_networks/phage_and_cpr_bacteria_gene_sharing_network/\")"
   ]
  },
  {
   "cell_type": "code",
   "execution_count": null,
   "metadata": {},
   "outputs": [],
   "source": [
    "#cat the cpr phages with the cpr bacteria\n",
    "cat = 'cat {0}/Gene_sharing_networks/phage_gene_sharing_network/all_phages_for_network.faa {0}ALL_genome_proteins.faa > {0}Gene_sharing_networks/phage_and_cpr_bacteria_gene_sharing_network/phages_with_cpr_bacteria.faa'.format(rootdir)\n",
    "os.system(cat)"
   ]
  },
  {
   "cell_type": "code",
   "execution_count": null,
   "metadata": {},
   "outputs": [],
   "source": [
    "#make cpr bactera gene2genome\n",
    "cpr_scaf_bin_tax_dict = defaultdict(list)\n",
    "for record in SeqIO.parse(rootdir + \"ALL_genome_proteins.faa\", 'fasta'):\n",
    "    cpr_scaf_bin_tax_dict[\"protein_id\"].append(record.id)\n",
    "    cpr_scaf_bin_tax_dict[\"contig_id\"].append(scaf2bin_dic[record.id.rsplit(\"_\", 1)[0]])\n",
    "    cpr_scaf_bin_tax_dict[\"host_tax\"].append(bin2tax_dict[scaf2bin_dic[record.id.rsplit(\"_\", 1)[0]]] + \"_cpr_genome\")\n",
    "cpr_scaf_bin_tax_df = pd.DataFrame(cpr_scaf_bin_tax_dict)"
   ]
  },
  {
   "cell_type": "code",
   "execution_count": null,
   "metadata": {},
   "outputs": [],
   "source": [
    "phage_cpr_gene2genome_df = pd.concat([phage_df, cpr_scaf_bin_tax_df])\n",
    "\n",
    "#save\n",
    "phage_cpr_gene2genome_df.rename(columns={\"host_tax\":\"keywords\"}).to_csv(\"{0}Gene_sharing_networks/phage_and_cpr_bacteria_gene_sharing_network/gene2genome.csv\", index=False)"
   ]
  },
  {
   "cell_type": "code",
   "execution_count": 33,
   "metadata": {},
   "outputs": [],
   "source": [
    "makedir(rootdir + \"Gene_sharing_networks/phage_and_cpr_bacteria_gene_sharing_network/vContact2_output\")"
   ]
  },
  {
   "cell_type": "raw",
   "metadata": {},
   "source": [
    "#vcontact2 command\n",
    "vcontact2 -t 16 --raw-proteins rootdir/Gene_sharing_networks/phage_and_cpr_bacteria_gene_sharing_network/phages_with_cpr_bacteria.faa --rel-mode Diamond --proteins-fp rootdir/Gene_sharing_networks/phage_and_cpr_bacteria_gene_sharing_network/gene2genome.csv --db 'None' --pcs-mode MCL --vcs-mode ClusterONE --c1-bin path_to_vContact2_cluster_one/cluster_one-1.0.jar --output-dir rootdir/Gene_sharing_networks/phage_and_cpr_bacteria_gene_sharing_network/vContact2_output"
   ]
  },
  {
   "attachments": {},
   "cell_type": "markdown",
   "metadata": {},
   "source": [
    "## Phage gene taxonomy predictions"
   ]
  },
  {
   "cell_type": "code",
   "execution_count": 28,
   "metadata": {},
   "outputs": [],
   "source": [
    "makedir(rootdir + \"phage_gene_taxonomy/\")"
   ]
  },
  {
   "cell_type": "code",
   "execution_count": null,
   "metadata": {},
   "outputs": [],
   "source": [
    "fasta = rootdir + \"Gene_sharing_networks/phage_gene_sharing_network/CPR_phage.faa\"\n"
   ]
  },
  {
   "cell_type": "code",
   "execution_count": null,
   "metadata": {},
   "outputs": [],
   "source": [
    "# split into multiple diamond jobs (script)\n",
    "with open(rootdir + \"Scripts/run_diamond.sh\", \"w\") as out:\n",
    "    \n",
    "    proteins = [record for record in SeqIO.parse(open(fasta), \"fasta\")]\n",
    "    n = round(len(proteins)/9)\n",
    "    \n",
    "    for i, cursor in enumerate(range(0, len(proteins),n)):\n",
    "        # first write out protein file\n",
    "        with open(rootdir + \"gene_taxonomy/block\" + str(i) + \".faa\", \"w\") as block:\n",
    "            for record in proteins[cursor:cursor+n]:\n",
    "                block.write(\">%s\\n%s\\n\" %(record.description, str(record.seq)))\n",
    "        call = \"sbatch -J dmnd\" + str(i) + \" --wrap 'diamond blastp -d /groups/banfield/users/clarelou/databases/UniRef100/uniref100.translated.dmnd \" + \\\n",
    "            \"-q %s -o %s --threads 48 -b8 -c1'\" %(rootdir + \"gene_taxonomy/block\" + str(i) + \".faa\", rootdir + \"gene_taxonomy/matches\" + str(i) + \".faa\")\n",
    "        out.write(call + \"\\n\")"
   ]
  },
  {
   "cell_type": "code",
   "execution_count": null,
   "metadata": {},
   "outputs": [],
   "source": [
    "# concatenate + collect taxonomy\n",
    "dmnd = pd.concat(skbio.io.read(item, format=\"blast+6\", into=pd.DataFrame, default_columns=True) for \\\n",
    "            item in glob.glob(rootdir + \"phage_gene_taxonomy/matches*\"))\n",
    "# compute coverage\n",
    "faalens = {record.description.split(\" \")[0]: len(record.seq) for record in SeqIO.parse(open(fasta), \"fasta\")}\n",
    "dmnd[\"qlen\"] = dmnd[\"qseqid\"].map(faalens)\n",
    "dmnd[\"qcov\"] = dmnd.apply(lambda x: (x[\"qend\"]-x[\"qstart\"])/x[\"qlen\"], axis=1)\n",
    "# choose best hits for each\n",
    "dmnd = dmnd.sort_values([\"bitscore\", \"qcov\"], ascending=[False,False]).drop_duplicates(\"qseqid\")\n",
    "# filter for min cov /eval\n",
    "dmnd = dmnd[(dmnd[\"evalue\"]<1e-6) & (dmnd[\"qcov\"]>0.70)]\n",
    "dmnd.head()"
   ]
  },
  {
   "cell_type": "code",
   "execution_count": null,
   "metadata": {},
   "outputs": [],
   "source": [
    "with open(rootdir + \"phage_gene_taxonomy/uniref_search.sh\", \"w\") as out:\n",
    "    \n",
    "    accs = []\n",
    "    for item in dmnd[\"sseqid\"].unique():\n",
    "        if item.split(\"_\")[-2] != \"None\":\n",
    "            accs.append(item.split(\"_\")[-2])\n",
    "        else: accs.append(item.split(\"_\")[-1])\n",
    "    accs_unique = [item for item in set(accs) if item != \"N/A\"]\n",
    "    \n",
    "    # call maxes out at 1000, so adjust parts accordingly\n",
    "    n = math.ceil(len(accs_unique)/13)\n",
    "    for i in range(0, len(accs_unique),n):\n",
    "        out.write(\"efetch -db taxonomy -mode xml -id %s > %s\\n\" %(\",\".join(accs_unique[i:i + n]), \\\n",
    "            rootdir + \"phage_gene_taxonomy/uniref_results_\" + str(int(i/n)) + \".xml\"))"
   ]
  },
  {
   "cell_type": "code",
   "execution_count": null,
   "metadata": {},
   "outputs": [],
   "source": [
    "lineage_info = defaultdict(list)\n",
    "\n",
    "for xml in glob.glob(rootdir + \"phage_gene_taxonomy/*xml\"):\n",
    "    \n",
    "    for block in BeautifulSoup(open(xml), \"xml\").findAll('Taxon'):\n",
    "            \n",
    "        lineage, phylum, species = \"None\", \"None\", \"None\"\n",
    "\n",
    "        if block.find(\"Lineage\"):\n",
    "            lineage = block.find(\"Lineage\").string\n",
    "\n",
    "        for level in block.findAll(\"Taxon\"):\n",
    "            if level.find(\"Rank\").string==\"phylum\":\n",
    "                phylum = level.find(\"ScientificName\").string\n",
    "                \n",
    "        for level in block.findAll(\"Taxon\"):\n",
    "            if level.find(\"Rank\").string==\"species\":\n",
    "                species = level.find(\"ScientificName\").string\n",
    "\n",
    "        lineage_info[\"taxid\"].append(block.find(\"TaxId\").string)\n",
    "        lineage_info[\"lineage\"].append(lineage)\n",
    "        lineage_info[\"phylum\"].append(phylum)\n",
    "        lineage_info[\"species\"].append(species)\n",
    "\n",
    "lineage_df = pd.DataFrame(lineage_info).query(\"lineage!='None'\").drop_duplicates([\"taxid\", \"phylum\"])\n",
    "lineage_df.head()"
   ]
  },
  {
   "cell_type": "code",
   "execution_count": null,
   "metadata": {},
   "outputs": [],
   "source": [
    "# add in\n",
    "dmnd[\"taxid\"] = dmnd[\"sseqid\"].apply(lambda x: x.split(\"_\")[-2] if x.split(\"_\")[-2] != 'None' else x.split(\"_\")[-1])\n",
    "dmnd[\"scaffold\"] = dmnd[\"qseqid\"].apply(lambda x: \"_\".join(x.split(\"_\")[:-1]))\n",
    "dmnd = dmnd.merge(lineage_df, how=\"left\", on=\"taxid\").fillna(\"None\")\n",
    "dmnd.head()"
   ]
  },
  {
   "cell_type": "code",
   "execution_count": null,
   "metadata": {},
   "outputs": [],
   "source": [
    "orf_counts = {}\n",
    "\n",
    "for record in SeqIO.parse(fasta, \"fasta\"):\n",
    "    scaf = \"_\".join(record.description.split(\" \")[0].split(\"_\")[:-1])\n",
    "    if scaf not in orf_counts:\n",
    "        orf_counts[scaf] = 1\n",
    "    else: orf_counts[scaf] +=1\n",
    "    \n",
    "len(orf_counts.keys())"
   ]
  },
  {
   "cell_type": "code",
   "execution_count": null,
   "metadata": {},
   "outputs": [],
   "source": [
    "dmnd[\"cpr_tax\"] = dmnd[\"qseqid\"].map(bin2tax_dict)"
   ]
  },
  {
   "cell_type": "code",
   "execution_count": null,
   "metadata": {},
   "outputs": [],
   "source": [
    "tax_info = defaultdict(list)\n",
    "\n",
    "for scaf in dmnd[\"scaffold\"].unique():\n",
    "    \n",
    "    subtable = dmnd[dmnd[\"scaffold\"]==scaf].groupby([\"scaffold\", \"phylum\"], \\\n",
    "        as_index=False).aggregate({\"qseqid\":\"count\"}).sort_values(\"qseqid\", ascending=False)\n",
    "    subtable[\"total_orfs\"] = orf_counts[subtable[\"scaffold\"].iloc[0]]\n",
    "    subtable[\"perc_orfs\"] = subtable.apply(lambda x: x[\"qseqid\"]/x[\"total_orfs\"], axis=1)\n",
    "    sorted_table = subtable.sort_values(\"perc_orfs\", ascending=False)\n",
    "    tax_info[\"bin\"].append(sorted_table[\"scaffold\"].iloc[0])\n",
    "    tax_info[\"phylum_winner\"].append(sorted_table[\"phylum\"].iloc[0])\n",
    "    tax_info[\"phylum_winner_perc\"].append(sorted_table[\"perc_orfs\"].iloc[0])\n",
    "\n",
    "tax_info_df = pd.DataFrame(tax_info)\n",
    "tax_info_df"
   ]
  },
  {
   "cell_type": "code",
   "execution_count": null,
   "metadata": {},
   "outputs": [],
   "source": [
    "tax_info_df[\"cpr_tax\"] = tax_info_df['bin'].map(bin2tax_dict)"
   ]
  },
  {
   "cell_type": "code",
   "execution_count": null,
   "metadata": {},
   "outputs": [],
   "source": [
    "#save\n",
    "tax_info_df.to_csv(rootdir + \"phage_gene_taxonomy/diamond_tax_call_results.csv\", index=False)"
   ]
  },
  {
   "attachments": {},
   "cell_type": "markdown",
   "metadata": {},
   "source": [
    "## Host Range of CPR phages"
   ]
  },
  {
   "cell_type": "code",
   "execution_count": null,
   "metadata": {},
   "outputs": [],
   "source": [
    "#function to pull down ncbi metadata\n",
    "import time\n",
    "from Bio import Entrez\n",
    "from bs4 import BeautifulSoup\n",
    "Entrez.email = \"To_fill_in\"\n",
    "def get_ncbi_metadata(accession, mode):\n",
    "    # dont annoy ncbi\n",
    "    time.sleep(0.1)\n",
    "    try:\n",
    "        # get genbank id\n",
    "        handle = Entrez.esearch(db='nucleotide', term=accession, RetMax=1)\n",
    "        result = Entrez.read(handle)\n",
    "        # get metadata document\n",
    "        handle = Entrez.efetch(db=\"nuccore\", id=result[\"IdList\"][0], retmode=\"xml\")\n",
    "        soup = BeautifulSoup(handle, \"lxml\")\n",
    "        if mode == \"def\":\n",
    "            return soup.find(\"gbseq_definition\").text\n",
    "        elif mode == \"tax\":\n",
    "            return soup.find(\"gbseq_taxonomy\").text\n",
    "        else: print(\"Not a valid mode.\")\n",
    "    except: return \"None\""
   ]
  },
  {
   "cell_type": "code",
   "execution_count": 35,
   "metadata": {},
   "outputs": [],
   "source": [
    "makedir(rootdir + \"phage_host_range/\")\n",
    "makedir(rootdir + \"phage_host_range/blast_db/\")"
   ]
  },
  {
   "cell_type": "code",
   "execution_count": 36,
   "metadata": {},
   "outputs": [
    {
     "data": {
      "text/plain": [
       "256"
      ]
     },
     "execution_count": 36,
     "metadata": {},
     "output_type": "execute_result"
    }
   ],
   "source": [
    "#making blast database with IMG/VR CPR predicted hosts \n",
    "#first copy\n",
    "cp = \"cp {0}IMG_VR_GVD_hits_dRepped.fna {0}phage_host_range/blast_db/IMG_VR_GVD_hits_dRepped.fna\".format(rootdir)\n",
    "os.system(cp)\n",
    "\n",
    "#make blast db\n",
    "makeblastdb = \"makeblastdb -in {0}phage_host_range/blast_db/IMG_VR_GVD_hits_dRepped.fna -dbtype nucl\".format(rootdir)\n",
    "os.system(makeblastdb)"
   ]
  },
  {
   "cell_type": "code",
   "execution_count": null,
   "metadata": {},
   "outputs": [],
   "source": [
    "def get_spacer_hits(input_df):\n",
    "    df = skbio.io.read(input_df, format=\"blast+6\", into=pd.DataFrame, default_columns=False,  columns=['qseqid', 'sseqid', 'pident', 'length', 'mismatch', 'gapopen', 'qstart', 'qend', 'sstart', 'send', 'evalue', 'bitscore', 'qlen', 'slen'])\n",
    "    df = df[df[\"mismatch\"] <= 1]\n",
    "    df[\"Coverage\"] = df['length']/df['qlen']\n",
    "    df = df[df[\"Coverage\"] >= 0.95]\n",
    "    return df"
   ]
  },
  {
   "cell_type": "code",
   "execution_count": 37,
   "metadata": {},
   "outputs": [],
   "source": [
    "makedir(rootdir + \"phage_host_range/blast_output/\")"
   ]
  },
  {
   "attachments": {},
   "cell_type": "markdown",
   "metadata": {},
   "source": [
    "Earth Virome Blast Paez-Espino et al., 2016"
   ]
  },
  {
   "cell_type": "code",
   "execution_count": null,
   "metadata": {},
   "outputs": [],
   "source": [
    "# Earth Virome Blast Paez-Espino et al. 2016\n",
    "# spacers avaliable in metadata directory\n",
    "blastn = 'blastn -task \"blastn-short\" -query {0}metdata/Earth_Virome_Project_ALL_spacers_fasta.fna -db {0}phage_host_range/blast_db/IMG_VR_GVD_hits_dRepped.fna -outfmt \"6 qseqid sseqid pident length mismatch gapopen qstart qend sstart send evalue bitscore qlen slen\" -out {0}phage_host_range/blast_output/ALL_results_Earth_Virome_Spacers_to_IMG_VR_CPR_predicted_hosts.csv -evalue 0.003 -word_size 7 -gapopen 10 -gapextend 2 -penalty -1 -max_target_seqs 1000 -num_threads 16'.format(rootdir)\n",
    "os.system(blastn)"
   ]
  },
  {
   "cell_type": "code",
   "execution_count": null,
   "metadata": {},
   "outputs": [],
   "source": [
    "#grab earth virome host tax id to host species\n",
    "earth_virome_tax_dict = {}\n",
    "earth_virome_tax_df = pd.read_table(rootdir + \"metdata/Earth_Virome_spacer_tax.csv\", sep=\";\")\n",
    "earth_virome_tax_df[\"tax_id\"] = earth_virome_tax_df[\"Query HOST (TaxID_____ ScafID_____ CRISPR algorithm_____ CRISPR Locus number_____ spacer location)\"].apply(lambda x: x.split(\"____\")[0])\n",
    "earth_virome_tax_df = earth_virome_tax_df.drop_duplicates(subset=\"tax_id\")\n",
    "for key, row  in earth_virome_tax_df.iterrows():\n",
    "    earth_virome_tax_dict[row[\"tax_id\"]] = row[\"Host_species\"]"
   ]
  },
  {
   "cell_type": "code",
   "execution_count": null,
   "metadata": {},
   "outputs": [],
   "source": [
    "#parse earth virome results\n",
    "Earth_Virome_spacers_to_IMG_df = get_spacer_hits(rootdir + \"phage_host_range/blast_output/ALL_results_Earth_Virome_Spacers_to_IMG_VR_CPR_predicted_hosts.csv \")\n",
    "Earth_Virome_spacers_to_IMG_df[\"Tax_ID\"] = Earth_Virome_spacers_to_IMG_df[\"qseqid\"].apply(lambda x: x.split(\"_____\")[0])\n",
    "Earth_Virome_spacers_to_IMG_df[\"tax\"] = Earth_Virome_spacers_to_IMG_df.Tax_ID.map(earth_virome_tax_dict)\n",
    "Earth_Virome_spacers_to_IMG_df.to_csv(rootdir + 'phage_host_range/blast_output/HITS_Earth_Virome_Spacers_to_IMG_VR_CPR_predicted_hosts.csv', index=False)"
   ]
  },
  {
   "cell_type": "markdown",
   "metadata": {},
   "source": [
    "Couvin et al., 2018"
   ]
  },
  {
   "cell_type": "code",
   "execution_count": null,
   "metadata": {},
   "outputs": [],
   "source": [
    "#blasting CCF spacer database to the CPR hits\n",
    "blastn = \"blastn -task 'blastn-short' -query {0}metadata/CCF_20190618_spacer_34.fasta -db {0}phage_host_range/blast_db/IMG_VR_GVD_hits_dRepped.fna -outfmt '6 qseqid sseqid pident length mismatch gapopen qstart qend sstart send evalue bitscore qlen slen' -out {0}phage_host_range/blast_output/ALL_results_CCF_spacer_db_to_IMG_VR_CPR_predicted_hosts.csv -evalue 0.003 -word_size 7 -gapopen 10 -gapextend 2 -penalty -1 -max_target_seqs 1000 -num_threads 16\".format(rootdir)\n",
    "os.system(blastn)"
   ]
  },
  {
   "cell_type": "code",
   "execution_count": null,
   "metadata": {},
   "outputs": [],
   "source": [
    "#parse CCF blast results\n",
    "CCF_spacer_to_IMG_df = get_spacer_hits(rootdir + \"phage_host_range/blast_output/ALL_results_CCF_spacer_db_to_IMG_VR_CPR_predicted_hosts.csv\")\n",
    "CCF_spacer_to_IMG_df[\"def\"] = CCF_spacer_to_IMG_df[\"qseqid\"].apply(lambda x: get_ncbi_metadata(x, \"def\"))\n",
    "CCF_spacer_to_IMG_df[\"tax\"] = CCF_spacer_to_IMG_df[\"qseqid\"].apply(lambda x: get_ncbi_metadata(x, \"tax\"))\n",
    "CCF_spacer_to_IMG_df.to_csv(rootdir + 'phage_host_range/blast_output/HITS_CCF_spacer_db_to_IMG_VR_CPR_predicted_hosts.csv', index=False)"
   ]
  },
  {
   "attachments": {},
   "cell_type": "markdown",
   "metadata": {},
   "source": [
    "Shmakov et al., 2017"
   ]
  },
  {
   "cell_type": "code",
   "execution_count": null,
   "metadata": {},
   "outputs": [],
   "source": [
    "#terminal command to blast the Koonin spacer db\n",
    "blastn = \"blastn -task 'blastn-short' -query {0}metadata/Koonin_Supplementary_material_spacers.fna -db {0}phage_host_range/blast_db/IMG_VR_GVD_hits_dRepped.fna -outfmt '6 qseqid sseqid pident length mismatch gapopen qstart qend sstart send evalue bitscore qlen slen' -out {0}phage_host_range/blast_output/ALL_results_Koonin_spacer_db_to_IMG_VR_CPR_predicted_hosts.csv -evalue 0.003 -word_size 7 -gapopen 10 -gapextend 2 -penalty -1 -max_target_seqs 1000 -num_threads 16\".format(rootdir)\n",
    "os.system(blastn)"
   ]
  },
  {
   "cell_type": "code",
   "execution_count": null,
   "metadata": {},
   "outputs": [],
   "source": [
    "#parse Shmakov et al spacer blasts\n",
    "Koonin_spacer_to_IMG_df = get_spacer_hits(rootdir + \"phage_host_range/blast_output/ALL_results_Koonin_spacer_db_to_IMG_VR_CPR_predicted_hosts.csv\")\n",
    "Koonin_spacer_to_IMG_df[\"Accession\"] = Koonin_spacer_to_IMG_df[\"qseqid\"].apply(lambda x: x.split(\"_\")[0])\n",
    "Koonin_spacer_to_IMG_df[\"def\"] = Koonin_spacer_to_IMG_df[\"Accession\"].apply(lambda x: get_ncbi_metadata(x, \"def\"))\n",
    "Koonin_spacer_to_IMG_df[\"tax\"] = Koonin_spacer_to_IMG_df[\"Accession\"].apply(lambda x: get_ncbi_metadata(x, \"tax\"))\n",
    "Koonin_spacer_to_IMG_df.to_csv('{0}phage_host_range/blast_output/HITS_Koonin_spacer_db_to_IMG_VR_CPR_predicted_hosts.csv', index=False)"
   ]
  },
  {
   "attachments": {},
   "cell_type": "markdown",
   "metadata": {},
   "source": [
    "Biswas et al., 2016"
   ]
  },
  {
   "cell_type": "code",
   "execution_count": null,
   "metadata": {},
   "outputs": [],
   "source": [
    "#terminal command to blast the CRISPRbank spacer db\n",
    "blastn = \"blastn -task 'blastn-short' -query {0}metadata/CRISPRBankSpacers_4_95_2555_100_bacteria_refseq_nr.fa -db {0}phage_host_range/blast_db/IMG_VR_GVD_hits_dRepped.fna -outfmt '6 qseqid sseqid pident length mismatch gapopen qstart qend sstart send evalue bitscore qlen slen' -out {0}phage_host_range/blast_output/ALL_results_CRISPRbank_db_to_IMG_VR_CPR_predicted_hosts.csv -evalue 0.003 -word_size 7 -gapopen 10 -gapextend 2 -penalty -1 -max_target_seqs 1000 -num_threads 16\".format(rootdir)\n",
    "os.system(blastn)"
   ]
  },
  {
   "cell_type": "code",
   "execution_count": null,
   "metadata": {},
   "outputs": [],
   "source": [
    "CRISPRbank_spacer_to_IMG_df = get_spacer_hits(rootdir + \"phage_host_range/blast_output/ALL_results_CRISPRbank_db_to_IMG_VR_CPR_predicted_hosts.csv\")\n",
    "CRISPRbank_spacer_to_IMG_df[\"Accession\"] = CRISPRbank_spacer_to_IMG_df[\"qseqid\"].apply(lambda x: x.split(\"|\")[0])\n",
    "CRISPRbank_spacer_to_IMG_df[\"def\"] = CRISPRbank_spacer_to_IMG_df[\"Accession\"].apply(lambda x: get_ncbi_metadata(x, \"def\"))\n",
    "CRISPRbank_spacer_to_IMG_df[\"tax\"] = CRISPRbank_spacer_to_IMG_df[\"Accession\"].apply(lambda x: get_ncbi_metadata(x, \"tax\"))\n",
    "CRISPRbank_spacer_to_IMG_df.to_csv(rootdir + 'phage_host_range/blast_output/HITS_CRISPRbank_db_to_IMG_VR_CPR_predicted_hosts.csv', index=False)"
   ]
  },
  {
   "cell_type": "markdown",
   "metadata": {},
   "source": [
    "### Actinobacteria spacer extraction"
   ]
  },
  {
   "cell_type": "code",
   "execution_count": 39,
   "metadata": {},
   "outputs": [],
   "source": [
    "makedir(rootdir + \"phage_host_range/actinobacteria_spacers/\")\n",
    "makedir(rootdir + \"phage_host_range/actinobacteria_spacers/CCF_output\")"
   ]
  },
  {
   "attachments": {},
   "cell_type": "raw",
   "metadata": {},
   "source": [
    "#terminal command to run CCF on actino genomes\n",
    "sbatch --wrap \"CRISPRCasFinder.pl -log -cpuM 48 -cpuP 48 -i path_to_/ALL_actinobacteria_genomes.fna -out rootdir/phage_host_range/actinobacteria_spacers/CCF_output\""
   ]
  },
  {
   "cell_type": "code",
   "execution_count": null,
   "metadata": {},
   "outputs": [],
   "source": [
    "makedir(rootdir + \"phage_host_range/actinobacteria_spacers/all_spacers/\")"
   ]
  },
  {
   "cell_type": "code",
   "execution_count": null,
   "metadata": {},
   "outputs": [],
   "source": [
    "for sample in glob.glob(rootdir + 'phage_host_range/actinobacteria_spacers/CCF_output/result.json'):\n",
    "        sample_name = sample.split('/')[10]\n",
    "        with open(sample, 'r') as f:\n",
    "            abs12_json = json.load(f)\n",
    "        for abs12 in abs12_json['Sequences']:\n",
    "            for abs12_a in abs12['Crisprs']:\n",
    "                if abs12_a[\"Evidence_Level\"] == 4 or abs12_a[\"Evidence_Level\"] == 3:\n",
    "                    for abs12_b in abs12_a['Regions']:\n",
    "                        if \"Spacer\" in abs12_b[\"Type\"]:\n",
    "                            fasta = open(rootdir + 'phage_host_range/actinobacteria_spacers/all_spacers/' + sample_name + \"_\" + str(abs12_b[\"Start\"]) + '_CCF_spacers.fna', \"w\")\n",
    "                            header = (\">\" + abs12['Version'] + \"_\" + str(abs12_b[\"Start\"]))\n",
    "                            sequence = (abs12_b['Sequence'])\n",
    "                            fasta.write(header + \"\\n\" + sequence + \"\\n\")\n",
    "                            fasta.close()"
   ]
  },
  {
   "cell_type": "raw",
   "metadata": {},
   "source": [
    "#cat all spacers\n",
    "cat rootdir/phage_host_range/actinobacteria_spacers/all_spacers/* > rootdir/phage_host_range/actinobacteria_spacers/all_3_4_spacers.fna"
   ]
  },
  {
   "cell_type": "markdown",
   "metadata": {},
   "source": [
    "blast the actino spacers"
   ]
  },
  {
   "cell_type": "code",
   "execution_count": null,
   "metadata": {},
   "outputs": [],
   "source": [
    "#blasting to IMG_VR CPR hits\n",
    "blastn = \"blastn -task 'blastn-short' -query {0}phage_host_range/actinobacteria_spacers/all_3_4_spacers.fna -db {0}phage_host_range/blast_db/IMG_VR_GVD_hits_dRepped.fna -outfmt '6 qseqid sseqid pident length mismatch gapopen qstart qend sstart send evalue bitscore qlen slen' -out {0}phage_host_range/actinobacteria_spacers/ALL_results_Actinobacteria_db_to_IMG_VR_CPR.csv -evalue 0.003 -word_size 7 -gapopen 10 -gapextend 2 -penalty -1 -max_target_seqs 1000 -num_threads 16\".format(rootdir)\n",
    "os.system(blastn)"
   ]
  },
  {
   "cell_type": "code",
   "execution_count": null,
   "metadata": {},
   "outputs": [],
   "source": [
    "#parse blast results\n",
    "Actinobacteria_db_1_spacers_to_IMG_df = get_spacer_hits(rootdir + \"phage_host_range/actinobacteria_spacers/ALL_results_Actinobacteria_db_to_IMG_VR_CPR.csv \")\n",
    "Actinobacteria_db_1_spacers_to_IMG_df[\"Accession\"] = Actinobacteria_db_1_spacers_to_IMG_df[\"qseqid\"].apply(lambda x: x.split(\"_\")[0])\n",
    "Actinobacteria_db_1_spacers_to_IMG_df[\"def\"] = Actinobacteria_db_1_spacers_to_IMG_df[\"Accession\"].apply(lambda x: get_ncbi_metadata(x, \"def\"))\n",
    "Actinobacteria_db_1_spacers_to_IMG_df[\"tax\"] = Actinobacteria_db_1_spacers_to_IMG_df[\"Accession\"].apply(lambda x: get_ncbi_metadata(x, \"tax\"))\n",
    "Actinobacteria_db_1_spacers_to_IMG_df.to_csv(rootdir + \"phage_host_range/actinobacteria_spacers/HITS_results_Actinobacteria_db_to_IMG_VR_CPR.csv\", index=False)"
   ]
  }
 ],
 "metadata": {
  "kernelspec": {
   "display_name": "Python 3",
   "language": "python",
   "name": "python3"
  },
  "language_info": {
   "codemirror_mode": {
    "name": "ipython",
    "version": 3
   },
   "file_extension": ".py",
   "mimetype": "text/x-python",
   "name": "python",
   "nbconvert_exporter": "python",
   "pygments_lexer": "ipython3",
   "version": "3.8.2"
  },
  "orig_nbformat": 4
 },
 "nbformat": 4,
 "nbformat_minor": 2
}
